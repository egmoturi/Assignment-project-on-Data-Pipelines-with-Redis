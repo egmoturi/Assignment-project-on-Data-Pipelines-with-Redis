{
  "nbformat": 4,
  "nbformat_minor": 0,
  "metadata": {
    "colab": {
      "provenance": []
    },
    "kernelspec": {
      "name": "python3",
      "display_name": "Python 3"
    },
    "language_info": {
      "name": "python"
    }
  },
  "cells": [
    {
      "cell_type": "code",
      "execution_count": 107,
      "metadata": {
        "colab": {
          "base_uri": "https://localhost:8080/"
        },
        "id": "zrKk2-X6EShl",
        "outputId": "356ef6c0-6618-44f1-fc4d-1639b198f564"
      },
      "outputs": [
        {
          "output_type": "stream",
          "name": "stdout",
          "text": [
            "35.237.15.45"
          ]
        }
      ],
      "source": [
        "!curl ipecho.net/plain"
      ]
    },
    {
      "cell_type": "code",
      "source": [
        "!pip install redis"
      ],
      "metadata": {
        "colab": {
          "base_uri": "https://localhost:8080/"
        },
        "id": "DGvC1y1QE3P1",
        "outputId": "fac81afa-c4dd-4431-bbfc-a91ede529734"
      },
      "execution_count": 108,
      "outputs": [
        {
          "output_type": "stream",
          "name": "stdout",
          "text": [
            "Looking in indexes: https://pypi.org/simple, https://us-python.pkg.dev/colab-wheels/public/simple/\n",
            "Requirement already satisfied: redis in /usr/local/lib/python3.9/dist-packages (4.5.4)\n",
            "Requirement already satisfied: async-timeout>=4.0.2 in /usr/local/lib/python3.9/dist-packages (from redis) (4.0.2)\n"
          ]
        }
      ]
    },
    {
      "cell_type": "code",
      "source": [
        "!pip install psycopg2"
      ],
      "metadata": {
        "colab": {
          "base_uri": "https://localhost:8080/"
        },
        "id": "ZBB1OIobA8Fh",
        "outputId": "08c8d7c3-38a5-4c00-d478-858f20ec655f"
      },
      "execution_count": 109,
      "outputs": [
        {
          "output_type": "stream",
          "name": "stdout",
          "text": [
            "Looking in indexes: https://pypi.org/simple, https://us-python.pkg.dev/colab-wheels/public/simple/\n",
            "Requirement already satisfied: psycopg2 in /usr/local/lib/python3.9/dist-packages (2.9.6)\n"
          ]
        }
      ]
    },
    {
      "cell_type": "code",
      "source": [
        "import pandas as pd\n",
        "import psycopg2\n",
        "import redis\n",
        "import numpy as np"
      ],
      "metadata": {
        "id": "MK5a522pErb4"
      },
      "execution_count": 106,
      "outputs": []
    },
    {
      "cell_type": "code",
      "source": [
        "# Redis Cloud Instance Information\n",
        "redis_host = 'redis-14444.c1.asia-northeast1-1.gce.cloud.redislabs.com'\n",
        "redis_port = 14444\n",
        "redis_password = 'KsxcueiwoTi92w0evIzbvdpf34ZUqmWx'"
      ],
      "metadata": {
        "id": "LE4rIfxOFEPM"
      },
      "execution_count": 110,
      "outputs": []
    },
    {
      "cell_type": "code",
      "source": [
        "# Postgres Database Information\n",
        "pg_host = '35.223.9.251'\n",
        "pg_database = 'kamulu4_DB'\n",
        "pg_user = 'kamulu4'\n",
        "pg_password = 'test'"
      ],
      "metadata": {
        "id": "pZ3QT8NxFJjE"
      },
      "execution_count": 111,
      "outputs": []
    },
    {
      "cell_type": "code",
      "source": [
        "# Redis Client Object\n",
        "redis_client = redis.Redis(host=redis_host, port=redis_port, password=redis_password)\n",
        "\n",
        "\n"
      ],
      "metadata": {
        "id": "k7OUj39iFM9M"
      },
      "execution_count": 112,
      "outputs": []
    },
    {
      "cell_type": "code",
      "source": [
        "def transform_data(data):\n",
        "    # Drop any rows with missing data\n",
        "    data = data.dropna()\n",
        "\n",
        "    # Convert the call date to a datetime object\n",
        "    data['call_date'] = pd.to_datetime(data['call_date'])\n",
        "\n",
        "    # Convert the call cost column to a numeric type\n",
        "    data['call_cost'] = pd.to_numeric(data['call_cost'], errors='coerce')\n",
        "\n",
        "    # Calculate the call cost in USD\n",
        "    data['call_cost_usd'] = data['call_cost'] * 0.8\n",
        "\n",
        "\n",
        "\n",
        "    # Rename columns\n",
        "    data = data.rename(columns={'id': 'customer_id', 'destination': 'call_destination', 'call_duration': 'call_duration_min'})\n",
        "    \n",
        "\n",
        "    return data\n",
        "\n",
        "\n",
        "def load_data(transformed_data):\n",
        "    # Connect to Postgres database\n",
        "    conn = psycopg2.connect(host=pg_host,database=pg_database, user=pg_user, password=pg_password)\n",
        "\n",
        "    # Create a cursor object\n",
        "    cur = conn.cursor()\n",
        "\n",
        "    # Create a table to store the data\n",
        "    cur.execute('CREATE TABLE IF NOT EXISTS customer_call_logs (\\\n",
        "                 customer_id INT,\\\n",
        "                 call_cost_usd FLOAT,\\\n",
        "                 call_destination VARCHAR,\\\n",
        "                 call_date TIMESTAMP,\\\n",
        "                 call_duration_min FLOAT\\\n",
        "                 )')\n",
        "\n",
        "    # Insert the transformed data into the database\n",
        "    for i, row in transformed_data.iterrows():\n",
        "        call_cost_usd = row['call_cost_usd']\n",
        "        if pd.isna(call_cost_usd):\n",
        "            call_cost_usd = 'NULL'\n",
        "        else:\n",
        "            call_cost_usd = float(call_cost_usd)\n",
        "        call_duration_min = float(row['call_duration_min'].total_seconds() / 60)\n",
        "        cur.execute(f\"INSERT INTO customer_call_logs (customer_id, call_cost_usd, call_destination, call_date, call_duration_min) VALUES ({row['customer_id']}, {call_cost_usd}, '{row['call_destination']}', '{row['call_date']}', '{call_duration_min}')\")\n",
        "\n",
        "    # Commit the changes\n",
        "    conn.commit()\n",
        "    # Commit the changes\n",
        "    conn.commit()\n",
        "\n",
        "    # Close the cursor and connection\n",
        "    cur.close()\n",
        "    conn.close()\n",
        "\n",
        "\n",
        "def data_pipeline():\n",
        "    # Data pipeline function\n",
        "    data = extract_data()\n",
        "    transformed_data = transform_data(data)\n",
        "    load_data(transformed_data)\n",
        "\n",
        "if __name__ == '__main__':\n",
        "    # Run the data pipeline function\n",
        "    data_pipeline()\n",
        "\n"
      ],
      "metadata": {
        "id": "PfNCNwKsFS3g"
      },
      "execution_count": null,
      "outputs": []
    },
    {
      "cell_type": "code",
      "source": [],
      "metadata": {
        "id": "lVkNvy95LrUV"
      },
      "execution_count": null,
      "outputs": []
    }
  ]
}